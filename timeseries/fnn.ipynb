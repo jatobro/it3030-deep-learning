{
 "cells": [
  {
   "cell_type": "markdown",
   "metadata": {},
   "source": [
    "# Feed Forward Regression\n"
   ]
  },
  {
   "cell_type": "markdown",
   "metadata": {},
   "source": [
    "### Importing packages\n"
   ]
  },
  {
   "cell_type": "code",
   "execution_count": 134,
   "metadata": {},
   "outputs": [],
   "source": [
    "import os\n",
    "\n",
    "import numpy as np\n",
    "import pandas as pd\n",
    "import torch\n",
    "from matplotlib import pyplot as plt\n",
    "from sklearn.model_selection import train_test_split\n",
    "from torch import nn\n",
    "from torch.utils.data import DataLoader, TensorDataset"
   ]
  },
  {
   "cell_type": "markdown",
   "metadata": {},
   "source": [
    "### Loading data\n"
   ]
  },
  {
   "cell_type": "code",
   "execution_count": 135,
   "metadata": {},
   "outputs": [
    {
     "data": {
      "text/html": [
       "<div>\n",
       "<style scoped>\n",
       "    .dataframe tbody tr th:only-of-type {\n",
       "        vertical-align: middle;\n",
       "    }\n",
       "\n",
       "    .dataframe tbody tr th {\n",
       "        vertical-align: top;\n",
       "    }\n",
       "\n",
       "    .dataframe thead th {\n",
       "        text-align: right;\n",
       "    }\n",
       "</style>\n",
       "<table border=\"1\" class=\"dataframe\">\n",
       "  <thead>\n",
       "    <tr style=\"text-align: right;\">\n",
       "      <th></th>\n",
       "      <th>consumption</th>\n",
       "      <th>next_consumption</th>\n",
       "      <th>temperature</th>\n",
       "    </tr>\n",
       "    <tr>\n",
       "      <th>timestamp</th>\n",
       "      <th></th>\n",
       "      <th></th>\n",
       "      <th></th>\n",
       "    </tr>\n",
       "  </thead>\n",
       "  <tbody>\n",
       "    <tr>\n",
       "      <th>2017-05-01 01:00:00+00:00</th>\n",
       "      <td>3325.431995</td>\n",
       "      <td>3344.690998</td>\n",
       "      <td>1.8</td>\n",
       "    </tr>\n",
       "    <tr>\n",
       "      <th>2017-05-01 02:00:00+00:00</th>\n",
       "      <td>3344.690998</td>\n",
       "      <td>3398.359002</td>\n",
       "      <td>3.2</td>\n",
       "    </tr>\n",
       "    <tr>\n",
       "      <th>2017-05-01 03:00:00+00:00</th>\n",
       "      <td>3398.359002</td>\n",
       "      <td>3430.220001</td>\n",
       "      <td>3.6</td>\n",
       "    </tr>\n",
       "    <tr>\n",
       "      <th>2017-05-01 04:00:00+00:00</th>\n",
       "      <td>3430.220001</td>\n",
       "      <td>3606.750000</td>\n",
       "      <td>3.4</td>\n",
       "    </tr>\n",
       "    <tr>\n",
       "      <th>2017-05-01 05:00:00+00:00</th>\n",
       "      <td>3606.750000</td>\n",
       "      <td>3739.876998</td>\n",
       "      <td>3.1</td>\n",
       "    </tr>\n",
       "  </tbody>\n",
       "</table>\n",
       "</div>"
      ],
      "text/plain": [
       "                           consumption  next_consumption  temperature\n",
       "timestamp                                                            \n",
       "2017-05-01 01:00:00+00:00  3325.431995       3344.690998          1.8\n",
       "2017-05-01 02:00:00+00:00  3344.690998       3398.359002          3.2\n",
       "2017-05-01 03:00:00+00:00  3398.359002       3430.220001          3.6\n",
       "2017-05-01 04:00:00+00:00  3430.220001       3606.750000          3.4\n",
       "2017-05-01 05:00:00+00:00  3606.750000       3739.876998          3.1"
      ]
     },
     "execution_count": 135,
     "metadata": {},
     "output_type": "execute_result"
    }
   ],
   "source": [
    "bidding_area = 1\n",
    "\n",
    "df = pd.read_csv(f\"data/NO{1}.csv\")\n",
    "df[\"timestamp\"] = pd.to_datetime(df[\"timestamp\"])\n",
    "df.set_index(\"timestamp\", inplace=True)\n",
    "\n",
    "df.head()"
   ]
  },
  {
   "cell_type": "markdown",
   "metadata": {},
   "source": [
    "### Adding time, day and year features\n"
   ]
  },
  {
   "cell_type": "code",
   "execution_count": 136,
   "metadata": {},
   "outputs": [
    {
     "data": {
      "text/html": [
       "<div>\n",
       "<style scoped>\n",
       "    .dataframe tbody tr th:only-of-type {\n",
       "        vertical-align: middle;\n",
       "    }\n",
       "\n",
       "    .dataframe tbody tr th {\n",
       "        vertical-align: top;\n",
       "    }\n",
       "\n",
       "    .dataframe thead th {\n",
       "        text-align: right;\n",
       "    }\n",
       "</style>\n",
       "<table border=\"1\" class=\"dataframe\">\n",
       "  <thead>\n",
       "    <tr style=\"text-align: right;\">\n",
       "      <th></th>\n",
       "      <th>consumption</th>\n",
       "      <th>next_consumption</th>\n",
       "      <th>temperature</th>\n",
       "      <th>time_of_day</th>\n",
       "      <th>day_of_week</th>\n",
       "      <th>day_of_year</th>\n",
       "    </tr>\n",
       "    <tr>\n",
       "      <th>timestamp</th>\n",
       "      <th></th>\n",
       "      <th></th>\n",
       "      <th></th>\n",
       "      <th></th>\n",
       "      <th></th>\n",
       "      <th></th>\n",
       "    </tr>\n",
       "  </thead>\n",
       "  <tbody>\n",
       "    <tr>\n",
       "      <th>2017-05-01 01:00:00+00:00</th>\n",
       "      <td>3325.431995</td>\n",
       "      <td>3344.690998</td>\n",
       "      <td>1.8</td>\n",
       "      <td>1</td>\n",
       "      <td>0</td>\n",
       "      <td>121</td>\n",
       "    </tr>\n",
       "    <tr>\n",
       "      <th>2017-05-01 02:00:00+00:00</th>\n",
       "      <td>3344.690998</td>\n",
       "      <td>3398.359002</td>\n",
       "      <td>3.2</td>\n",
       "      <td>2</td>\n",
       "      <td>0</td>\n",
       "      <td>121</td>\n",
       "    </tr>\n",
       "    <tr>\n",
       "      <th>2017-05-01 03:00:00+00:00</th>\n",
       "      <td>3398.359002</td>\n",
       "      <td>3430.220001</td>\n",
       "      <td>3.6</td>\n",
       "      <td>3</td>\n",
       "      <td>0</td>\n",
       "      <td>121</td>\n",
       "    </tr>\n",
       "    <tr>\n",
       "      <th>2017-05-01 04:00:00+00:00</th>\n",
       "      <td>3430.220001</td>\n",
       "      <td>3606.750000</td>\n",
       "      <td>3.4</td>\n",
       "      <td>4</td>\n",
       "      <td>0</td>\n",
       "      <td>121</td>\n",
       "    </tr>\n",
       "    <tr>\n",
       "      <th>2017-05-01 05:00:00+00:00</th>\n",
       "      <td>3606.750000</td>\n",
       "      <td>3739.876998</td>\n",
       "      <td>3.1</td>\n",
       "      <td>5</td>\n",
       "      <td>0</td>\n",
       "      <td>121</td>\n",
       "    </tr>\n",
       "  </tbody>\n",
       "</table>\n",
       "</div>"
      ],
      "text/plain": [
       "                           consumption  next_consumption  temperature  \\\n",
       "timestamp                                                               \n",
       "2017-05-01 01:00:00+00:00  3325.431995       3344.690998          1.8   \n",
       "2017-05-01 02:00:00+00:00  3344.690998       3398.359002          3.2   \n",
       "2017-05-01 03:00:00+00:00  3398.359002       3430.220001          3.6   \n",
       "2017-05-01 04:00:00+00:00  3430.220001       3606.750000          3.4   \n",
       "2017-05-01 05:00:00+00:00  3606.750000       3739.876998          3.1   \n",
       "\n",
       "                           time_of_day  day_of_week  day_of_year  \n",
       "timestamp                                                         \n",
       "2017-05-01 01:00:00+00:00            1            0          121  \n",
       "2017-05-01 02:00:00+00:00            2            0          121  \n",
       "2017-05-01 03:00:00+00:00            3            0          121  \n",
       "2017-05-01 04:00:00+00:00            4            0          121  \n",
       "2017-05-01 05:00:00+00:00            5            0          121  "
      ]
     },
     "execution_count": 136,
     "metadata": {},
     "output_type": "execute_result"
    }
   ],
   "source": [
    "df[\"time_of_day\"] = df.index.hour\n",
    "df[\"day_of_week\"] = df.index.dayofweek\n",
    "df[\"day_of_year\"] = df.index.dayofyear\n",
    "\n",
    "df.head()"
   ]
  },
  {
   "cell_type": "markdown",
   "metadata": {},
   "source": [
    "### Splitting data\n"
   ]
  },
  {
   "cell_type": "code",
   "execution_count": 137,
   "metadata": {},
   "outputs": [],
   "source": [
    "df_train, df_test = train_test_split(df, test_size=0.2, shuffle=False)\n",
    "df_train, df_val = train_test_split(df_train, test_size=0.1)"
   ]
  },
  {
   "cell_type": "markdown",
   "metadata": {},
   "source": [
    "### Normalizing training data\n"
   ]
  },
  {
   "cell_type": "code",
   "execution_count": 138,
   "metadata": {},
   "outputs": [],
   "source": [
    "train_mean = df_train.mean()\n",
    "train_std = df_train.std()\n",
    "\n",
    "df_train = (df_train - train_mean) / train_std\n",
    "df_val = (df_val - train_mean) / train_std\n",
    "df_test = (df_test - train_mean) / train_std"
   ]
  },
  {
   "cell_type": "code",
   "execution_count": 139,
   "metadata": {},
   "outputs": [
    {
     "name": "stdout",
     "output_type": "stream",
     "text": [
      "<class 'pandas.core.frame.DataFrame'>\n",
      "DatetimeIndex: 11693 entries, 2022-08-31 19:00:00+00:00 to 2023-12-31 23:00:00+00:00\n",
      "Data columns (total 6 columns):\n",
      " #   Column            Non-Null Count  Dtype  \n",
      "---  ------            --------------  -----  \n",
      " 0   consumption       11693 non-null  float64\n",
      " 1   next_consumption  11693 non-null  float64\n",
      " 2   temperature       11693 non-null  float64\n",
      " 3   time_of_day       11693 non-null  float64\n",
      " 4   day_of_week       11693 non-null  float64\n",
      " 5   day_of_year       11693 non-null  float64\n",
      "dtypes: float64(6)\n",
      "memory usage: 639.5 KB\n"
     ]
    }
   ],
   "source": [
    "df_test.info()"
   ]
  },
  {
   "cell_type": "markdown",
   "metadata": {},
   "source": [
    "### Converting to tensors\n"
   ]
  },
  {
   "cell_type": "code",
   "execution_count": 140,
   "metadata": {},
   "outputs": [],
   "source": [
    "target_train = torch.tensor(df_train[\"next_consumption\"].values.astype(np.float32))\n",
    "features_train = torch.tensor(\n",
    "    df_train.drop(columns=\"next_consumption\").values.astype(np.float32)\n",
    ")\n",
    "\n",
    "target_val = torch.tensor(df_val[\"next_consumption\"].values.astype(np.float32))\n",
    "features_val = torch.tensor(\n",
    "    df_val.drop(columns=\"next_consumption\").values.astype(np.float32)\n",
    ")\n",
    "\n",
    "target_test = torch.tensor(df_test[\"next_consumption\"].values.astype(np.float32))\n",
    "features_test = torch.tensor(\n",
    "    df_test.drop(columns=\"next_consumption\").values.astype(np.float32)\n",
    ")"
   ]
  },
  {
   "cell_type": "markdown",
   "metadata": {},
   "source": [
    "### Create pytorch datasets and data loaders\n"
   ]
  },
  {
   "cell_type": "code",
   "execution_count": 141,
   "metadata": {},
   "outputs": [],
   "source": [
    "train_tensor = TensorDataset(features_train, target_train)\n",
    "train_loader = DataLoader(train_tensor, batch_size=64, shuffle=True)\n",
    "\n",
    "val_tensor = TensorDataset(features_val, target_val)\n",
    "val_loader = DataLoader(val_tensor, batch_size=64, shuffle=False)\n",
    "\n",
    "test_tensor = TensorDataset(features_test, target_test)\n",
    "test_loader = DataLoader(\n",
    "    test_tensor, batch_size=25, shuffle=False\n",
    ")  # 25 because one day has 24 hours"
   ]
  },
  {
   "cell_type": "markdown",
   "metadata": {},
   "source": [
    "### Creating model\n"
   ]
  },
  {
   "cell_type": "code",
   "execution_count": 142,
   "metadata": {},
   "outputs": [
    {
     "name": "stdout",
     "output_type": "stream",
     "text": [
      "Using mps device\n"
     ]
    },
    {
     "data": {
      "text/plain": [
       "FeedForward(\n",
       "  (linear_relu_stack): Sequential(\n",
       "    (0): Linear(in_features=5, out_features=24, bias=True)\n",
       "    (1): ReLU()\n",
       "    (2): Linear(in_features=24, out_features=12, bias=True)\n",
       "    (3): ReLU()\n",
       "    (4): Linear(in_features=12, out_features=6, bias=True)\n",
       "    (5): Linear(in_features=6, out_features=1, bias=True)\n",
       "  )\n",
       ")"
      ]
     },
     "execution_count": 142,
     "metadata": {},
     "output_type": "execute_result"
    }
   ],
   "source": [
    "# Get cpu, gpu or mps device for training.\n",
    "device = (\n",
    "    \"cuda\"\n",
    "    if torch.cuda.is_available()\n",
    "    else \"mps\"\n",
    "    if torch.backends.mps.is_available()\n",
    "    else \"cpu\"\n",
    ")\n",
    "print(f\"Using {device} device\")\n",
    "\n",
    "\n",
    "# Define model\n",
    "class FeedForward(nn.Module):\n",
    "    def __init__(self):\n",
    "        super().__init__()\n",
    "        self.linear_relu_stack = nn.Sequential(\n",
    "            nn.Linear(5, 24),\n",
    "            nn.ReLU(),\n",
    "            nn.Linear(24, 12),\n",
    "            nn.ReLU(),\n",
    "            nn.Linear(12, 6),\n",
    "            nn.Linear(6, 1),\n",
    "        )\n",
    "\n",
    "    def forward(self, x):\n",
    "        x = self.linear_relu_stack(x)\n",
    "        return x\n",
    "\n",
    "\n",
    "model = FeedForward().to(device)\n",
    "model"
   ]
  },
  {
   "cell_type": "markdown",
   "metadata": {},
   "source": [
    "### Loss function and optimizer\n"
   ]
  },
  {
   "cell_type": "code",
   "execution_count": 143,
   "metadata": {},
   "outputs": [],
   "source": [
    "loss_fn = nn.MSELoss()\n",
    "optimizer = torch.optim.Adam(model.parameters(), lr=1e-3)"
   ]
  },
  {
   "cell_type": "markdown",
   "metadata": {},
   "source": [
    "### Training\n"
   ]
  },
  {
   "cell_type": "code",
   "execution_count": 144,
   "metadata": {},
   "outputs": [
    {
     "name": "stdout",
     "output_type": "stream",
     "text": [
      "Epoch 1, Val Loss: 0.010028840766313512\n",
      "Epoch 2, Val Loss: 0.008509541484149726\n",
      "Epoch 3, Val Loss: 0.006868463984967486\n",
      "Epoch 4, Val Loss: 0.0061369689678571916\n",
      "Epoch 5, Val Loss: 0.006213679154579704\n"
     ]
    }
   ],
   "source": [
    "epochs = 5\n",
    "\n",
    "losses = []\n",
    "losses_show = []\n",
    "val_losses = []\n",
    "\n",
    "for e in range(epochs):\n",
    "    epoch_loss = []\n",
    "\n",
    "    for batch, (X, y) in enumerate(train_loader):\n",
    "        X, y = X.to(device), y.to(device)\n",
    "\n",
    "        pred = model(X)\n",
    "        loss = loss_fn(pred, y.view(-1, 1))\n",
    "\n",
    "        optimizer.zero_grad()\n",
    "        loss.backward()\n",
    "        optimizer.step()\n",
    "\n",
    "        losses.append(loss.item())\n",
    "        epoch_loss.append(loss.item())\n",
    "\n",
    "        if len(losses) > 20:\n",
    "            losses_show.append(sum(losses[-20:]) / 20)\n",
    "        else:\n",
    "            losses_show.append(losses[-1])\n",
    "\n",
    "    val_loss = []\n",
    "    for batch, (X, y) in enumerate(val_loader):\n",
    "        X, y = X.to(device), y.to(device)\n",
    "\n",
    "        pred = model(X)\n",
    "        loss = loss_fn(pred, y.view(-1, 1))\n",
    "        val_loss.append(loss.item())\n",
    "\n",
    "    avg_val_loss = sum(val_loss) / len(val_loss)\n",
    "    print(f\"Epoch {e+1}, Val Loss: {avg_val_loss}\")\n",
    "\n",
    "    val_losses.append(avg_val_loss)\n",
    "\n",
    "models_directory = \"models\"\n",
    "\n",
    "if not os.path.exists(models_directory):\n",
    "    os.makedirs(models_directory)\n",
    "\n",
    "torch.save(model.state_dict(), \"models/fnn.pth\")"
   ]
  },
  {
   "cell_type": "markdown",
   "metadata": {},
   "source": [
    "### Plotting\n"
   ]
  },
  {
   "cell_type": "code",
   "execution_count": 145,
   "metadata": {},
   "outputs": [
    {
     "name": "stdout",
     "output_type": "stream",
     "text": [
      "658\n"
     ]
    },
    {
     "data": {
      "image/png": "[encoded data removed]",
      "text/plain": [
       "<Figure size 900x600 with 1 Axes>"
      ]
     },
     "metadata": {},
     "output_type": "display_data"
    }
   ],
   "source": [
    "plt.figure(figsize=(6, 4), dpi=150)\n",
    "plt.grid()\n",
    "plt.ylim(0, 0.03)\n",
    "\n",
    "print(len(losses_show) // len(val_losses))\n",
    "\n",
    "plt.plot(range(len(losses_show)), losses_show, label=\"Train Loss\")\n",
    "plt.plot(\n",
    "    range(\n",
    "        len(losses_show) // len(val_losses),\n",
    "        len(losses_show) + 1,\n",
    "        len(losses_show) // len(val_losses),\n",
    "    ),\n",
    "    val_losses,\n",
    "    label=\"Val Loss\",\n",
    ")\n",
    "plt.show()"
   ]
  },
  {
   "cell_type": "markdown",
   "metadata": {},
   "source": [
    "### Testing\n"
   ]
  },
  {
   "cell_type": "code",
   "execution_count": 146,
   "metadata": {},
   "outputs": [],
   "source": [
    "model.eval()\n",
    "\n",
    "with torch.no_grad():\n",
    "    predictions = []\n",
    "\n",
    "    for batch, (X, y) in enumerate(test_loader):\n",
    "        X, y = X.to(device), y.to(device)\n",
    "\n",
    "        preds = []\n",
    "        i = 0\n",
    "        pred = 0\n",
    "        for f, t in zip(X, y):\n",
    "            if i > 0:\n",
    "                f[1] = pred\n",
    "                pred = model(f)\n",
    "                preds.append(pred.item())\n",
    "            elif i == 0:\n",
    "                pred = model(f)\n",
    "                preds.append(pred.item())\n",
    "            i += 1\n",
    "        predictions.append([preds, y])"
   ]
  },
  {
   "cell_type": "markdown",
   "metadata": {},
   "source": [
    "### Plotting predictions and targets\n"
   ]
  },
  {
   "cell_type": "code",
   "execution_count": 147,
   "metadata": {},
   "outputs": [
    {
     "ename": "TypeError",
     "evalue": "can't convert mps:0 device type tensor to numpy. Use Tensor.cpu() to copy the tensor to host memory first.",
     "output_type": "error",
     "traceback": [
      "\u001b[0;31m---------------------------------------------------------------------------\u001b[0m",
      "\u001b[0;31mTypeError\u001b[0m                                 Traceback (most recent call last)",
      "Cell \u001b[0;32mIn[147], line 11\u001b[0m\n\u001b[1;32m      5\u001b[0m \u001b[38;5;66;03m# denormalize\u001b[39;00m\n\u001b[1;32m      6\u001b[0m predictions \u001b[38;5;241m=\u001b[39m (\n\u001b[1;32m      7\u001b[0m     np\u001b[38;5;241m.\u001b[39marray(predictions) \u001b[38;5;241m*\u001b[39m train_std[\u001b[38;5;124m\"\u001b[39m\u001b[38;5;124mnext_consumption\u001b[39m\u001b[38;5;124m\"\u001b[39m]\n\u001b[1;32m      8\u001b[0m     \u001b[38;5;241m+\u001b[39m train_mean[\u001b[38;5;124m\"\u001b[39m\u001b[38;5;124mnext_consumption\u001b[39m\u001b[38;5;124m\"\u001b[39m]\n\u001b[1;32m      9\u001b[0m )\n\u001b[1;32m     10\u001b[0m targets \u001b[38;5;241m=\u001b[39m (\n\u001b[0;32m---> 11\u001b[0m     \u001b[43mtargets\u001b[49m\u001b[38;5;241;43m.\u001b[39;49m\u001b[43mnumpy\u001b[49m\u001b[43m(\u001b[49m\u001b[43m)\u001b[49m \u001b[38;5;241m*\u001b[39m train_std[\u001b[38;5;124m\"\u001b[39m\u001b[38;5;124mnext_consumption\u001b[39m\u001b[38;5;124m\"\u001b[39m] \u001b[38;5;241m+\u001b[39m train_mean[\u001b[38;5;124m\"\u001b[39m\u001b[38;5;124mnext_consumption\u001b[39m\u001b[38;5;124m\"\u001b[39m]\n\u001b[1;32m     12\u001b[0m )\n\u001b[1;32m     14\u001b[0m plt\u001b[38;5;241m.\u001b[39mfigure(figsize\u001b[38;5;241m=\u001b[39m(\u001b[38;5;241m8\u001b[39m, \u001b[38;5;241m4\u001b[39m), dpi\u001b[38;5;241m=\u001b[39m\u001b[38;5;241m150\u001b[39m)\n\u001b[1;32m     15\u001b[0m plt\u001b[38;5;241m.\u001b[39mgrid()\n",
      "\u001b[0;31mTypeError\u001b[0m: can't convert mps:0 device type tensor to numpy. Use Tensor.cpu() to copy the tensor to host memory first."
     ]
    }
   ],
   "source": [
    "# select test interval\n",
    "test_interval_index = 200\n",
    "predictions, targets = predictions[test_interval_index]\n",
    "\n",
    "# denormalize\n",
    "predictions = (\n",
    "    np.array(predictions) * train_std[\"next_consumption\"]\n",
    "    + train_mean[\"next_consumption\"]\n",
    ")\n",
    "targets = (\n",
    "    targets.cpu().numpy() * train_std[\"next_consumption\"]\n",
    "    + train_mean[\"next_consumption\"]\n",
    ")\n",
    "\n",
    "plt.figure(figsize=(8, 4), dpi=150)\n",
    "plt.grid()\n",
    "plt.xticks(range(len(targets)))\n",
    "plt.plot(range(len(predictions)), predictions, label=\"Predictions\")\n",
    "plt.plot(range(len(targets)), targets, label=\"Targets\")\n",
    "plt.scatter(range(1, len(predictions)), predictions[1:], color=\"red\")\n",
    "plt.scatter(range(1, len(targets)), targets[1:], color=\"green\")\n",
    "plt.legend()\n",
    "plt.show()"
   ]
  }
 ],
 "metadata": {
  "kernelspec": {
   "display_name": "it3030",
   "language": "python",
   "name": "python3"
  },
  "language_info": {
   "codemirror_mode": {
    "name": "ipython",
    "version": 3
   },
   "file_extension": ".py",
   "mimetype": "text/x-python",
   "name": "python",
   "nbconvert_exporter": "python",
   "pygments_lexer": "ipython3",
   "version": "3.9.18"
  }
 },
 "nbformat": 4,
 "nbformat_minor": 2
}
