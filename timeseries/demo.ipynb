{
 "cells": [
  {
   "cell_type": "markdown",
   "metadata": {},
   "source": [
    "### Demonstration with pre-trained models\n"
   ]
  },
  {
   "cell_type": "code",
   "execution_count": 73,
   "metadata": {},
   "outputs": [],
   "source": [
    "import copy\n",
    "\n",
    "import matplotlib.pyplot as plt\n",
    "import numpy as np\n",
    "import pandas as pd\n",
    "import torch\n",
    "from dataset import SequenceDatasetCNN\n",
    "from model import LSTM, Convolutional, FeedForward\n",
    "from sklearn.model_selection import train_test_split\n",
    "from torch.utils.data import DataLoader, TensorDataset\n",
    "from utils import plot_pred_target, step_by_step"
   ]
  },
  {
   "cell_type": "code",
   "execution_count": 74,
   "metadata": {},
   "outputs": [
    {
     "data": {
      "text/html": [
       "<div>\n",
       "<style scoped>\n",
       "    .dataframe tbody tr th:only-of-type {\n",
       "        vertical-align: middle;\n",
       "    }\n",
       "\n",
       "    .dataframe tbody tr th {\n",
       "        vertical-align: top;\n",
       "    }\n",
       "\n",
       "    .dataframe thead th {\n",
       "        text-align: right;\n",
       "    }\n",
       "</style>\n",
       "<table border=\"1\" class=\"dataframe\">\n",
       "  <thead>\n",
       "    <tr style=\"text-align: right;\">\n",
       "      <th></th>\n",
       "      <th>consumption</th>\n",
       "      <th>temperature</th>\n",
       "    </tr>\n",
       "    <tr>\n",
       "      <th>timestamp</th>\n",
       "      <th></th>\n",
       "      <th></th>\n",
       "    </tr>\n",
       "  </thead>\n",
       "  <tbody>\n",
       "    <tr>\n",
       "      <th>2017-05-01 00:00:00+00:00</th>\n",
       "      <td>2674.838</td>\n",
       "      <td>5.5</td>\n",
       "    </tr>\n",
       "    <tr>\n",
       "      <th>2017-05-01 01:00:00+00:00</th>\n",
       "      <td>2678.188</td>\n",
       "      <td>4.0</td>\n",
       "    </tr>\n",
       "    <tr>\n",
       "      <th>2017-05-01 02:00:00+00:00</th>\n",
       "      <td>2678.341</td>\n",
       "      <td>3.7</td>\n",
       "    </tr>\n",
       "    <tr>\n",
       "      <th>2017-05-01 03:00:00+00:00</th>\n",
       "      <td>2684.172</td>\n",
       "      <td>3.2</td>\n",
       "    </tr>\n",
       "    <tr>\n",
       "      <th>2017-05-01 04:00:00+00:00</th>\n",
       "      <td>2733.345</td>\n",
       "      <td>2.7</td>\n",
       "    </tr>\n",
       "  </tbody>\n",
       "</table>\n",
       "</div>"
      ],
      "text/plain": [
       "                           consumption  temperature\n",
       "timestamp                                          \n",
       "2017-05-01 00:00:00+00:00     2674.838          5.5\n",
       "2017-05-01 01:00:00+00:00     2678.188          4.0\n",
       "2017-05-01 02:00:00+00:00     2678.341          3.7\n",
       "2017-05-01 03:00:00+00:00     2684.172          3.2\n",
       "2017-05-01 04:00:00+00:00     2733.345          2.7"
      ]
     },
     "execution_count": 74,
     "metadata": {},
     "output_type": "execute_result"
    }
   ],
   "source": [
    "model_type = \"cnn\"\n",
    "\n",
    "df = pd.read_csv(f\"data/{model_type}.csv\")\n",
    "\n",
    "df[\"timestamp\"] = pd.to_datetime(df[\"timestamp\"])\n",
    "df.set_index(\"timestamp\", inplace=True)\n",
    "\n",
    "\n",
    "df.head()"
   ]
  },
  {
   "cell_type": "markdown",
   "metadata": {},
   "source": [
    "### Split data\n"
   ]
  },
  {
   "cell_type": "code",
   "execution_count": 75,
   "metadata": {},
   "outputs": [],
   "source": [
    "df_train, df_test = train_test_split(df, test_size=0.1, shuffle=False)"
   ]
  },
  {
   "cell_type": "markdown",
   "metadata": {},
   "source": [
    "### Normalize\n"
   ]
  },
  {
   "cell_type": "code",
   "execution_count": 76,
   "metadata": {},
   "outputs": [
    {
     "data": {
      "text/html": [
       "<div>\n",
       "<style scoped>\n",
       "    .dataframe tbody tr th:only-of-type {\n",
       "        vertical-align: middle;\n",
       "    }\n",
       "\n",
       "    .dataframe tbody tr th {\n",
       "        vertical-align: top;\n",
       "    }\n",
       "\n",
       "    .dataframe thead th {\n",
       "        text-align: right;\n",
       "    }\n",
       "</style>\n",
       "<table border=\"1\" class=\"dataframe\">\n",
       "  <thead>\n",
       "    <tr style=\"text-align: right;\">\n",
       "      <th></th>\n",
       "      <th>consumption</th>\n",
       "      <th>temperature</th>\n",
       "    </tr>\n",
       "    <tr>\n",
       "      <th>timestamp</th>\n",
       "      <th></th>\n",
       "      <th></th>\n",
       "    </tr>\n",
       "  </thead>\n",
       "  <tbody>\n",
       "    <tr>\n",
       "      <th>2023-05-02 09:00:00+00:00</th>\n",
       "      <td>0.170499</td>\n",
       "      <td>-0.323805</td>\n",
       "    </tr>\n",
       "    <tr>\n",
       "      <th>2023-05-02 10:00:00+00:00</th>\n",
       "      <td>0.126064</td>\n",
       "      <td>-0.040133</td>\n",
       "    </tr>\n",
       "    <tr>\n",
       "      <th>2023-05-02 11:00:00+00:00</th>\n",
       "      <td>0.104119</td>\n",
       "      <td>-0.259334</td>\n",
       "    </tr>\n",
       "    <tr>\n",
       "      <th>2023-05-02 12:00:00+00:00</th>\n",
       "      <td>0.080581</td>\n",
       "      <td>-0.078815</td>\n",
       "    </tr>\n",
       "    <tr>\n",
       "      <th>2023-05-02 13:00:00+00:00</th>\n",
       "      <td>0.055031</td>\n",
       "      <td>0.037233</td>\n",
       "    </tr>\n",
       "  </tbody>\n",
       "</table>\n",
       "</div>"
      ],
      "text/plain": [
       "                           consumption  temperature\n",
       "timestamp                                          \n",
       "2023-05-02 09:00:00+00:00     0.170499    -0.323805\n",
       "2023-05-02 10:00:00+00:00     0.126064    -0.040133\n",
       "2023-05-02 11:00:00+00:00     0.104119    -0.259334\n",
       "2023-05-02 12:00:00+00:00     0.080581    -0.078815\n",
       "2023-05-02 13:00:00+00:00     0.055031     0.037233"
      ]
     },
     "execution_count": 76,
     "metadata": {},
     "output_type": "execute_result"
    }
   ],
   "source": [
    "train_mean = df_train.mean()\n",
    "train_std = df_train.std()\n",
    "\n",
    "df_test = (df_test - train_mean) / train_std\n",
    "\n",
    "df_test.head()"
   ]
  },
  {
   "cell_type": "markdown",
   "metadata": {},
   "source": [
    "### Load pre-trained model\n"
   ]
  },
  {
   "cell_type": "code",
   "execution_count": 77,
   "metadata": {},
   "outputs": [
    {
     "data": {
      "text/plain": [
       "Convolutional(\n",
       "  (conv_stack): Sequential(\n",
       "    (0): Conv1d(100, 32, kernel_size=(3,), stride=(1,), padding=(1,))\n",
       "    (1): LeakyReLU(negative_slope=0.2)\n",
       "    (2): BatchNorm1d(32, eps=1e-05, momentum=0.1, affine=True, track_running_stats=True)\n",
       "    (3): Conv1d(32, 64, kernel_size=(3,), stride=(1,), padding=(1,))\n",
       "    (4): LeakyReLU(negative_slope=0.2)\n",
       "    (5): BatchNorm1d(64, eps=1e-05, momentum=0.1, affine=True, track_running_stats=True)\n",
       "    (6): Conv1d(64, 128, kernel_size=(3,), stride=(1,), padding=(1,))\n",
       "    (7): LeakyReLU(negative_slope=0.2)\n",
       "    (8): BatchNorm1d(128, eps=1e-05, momentum=0.1, affine=True, track_running_stats=True)\n",
       "    (9): MaxPool1d(kernel_size=2, stride=2, padding=0, dilation=1, ceil_mode=False)\n",
       "  )\n",
       "  (linear_stack): Sequential(\n",
       "    (0): Linear(in_features=128, out_features=32, bias=True)\n",
       "    (1): LeakyReLU(negative_slope=0.2)\n",
       "    (2): Linear(in_features=32, out_features=1, bias=True)\n",
       "  )\n",
       ")"
      ]
     },
     "execution_count": 77,
     "metadata": {},
     "output_type": "execute_result"
    }
   ],
   "source": [
    "device = (\n",
    "    \"cuda\"\n",
    "    if torch.cuda.is_available()\n",
    "    else \"mps\"\n",
    "    if torch.backends.mps.is_available()\n",
    "    else \"cpu\"\n",
    ")\n",
    "\n",
    "model = (\n",
    "    FeedForward()\n",
    "    if model_type == \"fnn\"\n",
    "    else Convolutional(tw=100)\n",
    "    if model_type == \"cnn\"\n",
    "    else LSTM(device=device)\n",
    "    if model_type == \"lstm\"\n",
    "    else None\n",
    ")\n",
    "\n",
    "model.to(device)\n",
    "\n",
    "model.load_state_dict(torch.load(f\"models/{model_type}.pth\"))\n",
    "model.eval()"
   ]
  },
  {
   "cell_type": "markdown",
   "metadata": {},
   "source": [
    "### Testing and plotting comparison\n"
   ]
  },
  {
   "cell_type": "code",
   "execution_count": 78,
   "metadata": {},
   "outputs": [
    {
     "data": {
      "image/png": "[encoded data removed]",
      "text/plain": [
       "<Figure size 900x600 with 1 Axes>"
      ]
     },
     "metadata": {},
     "output_type": "display_data"
    }
   ],
   "source": [
    "if model_type == \"fnn\":\n",
    "    features_test = torch.tensor(\n",
    "        df_test.drop(columns=[\"next_consumption\"]).values.astype(np.float32)\n",
    "    )\n",
    "    test = torch.tensor(df_test[\"next_consumption\"].values.astype(np.float32))\n",
    "\n",
    "    test_tensor = TensorDataset(features_test, test)\n",
    "    test_loader = DataLoader(test_tensor, batch_size=25, shuffle=False)\n",
    "\n",
    "    predictions = step_by_step(\n",
    "        model, device, test_loader=test_loader, std=train_std, mean=train_mean\n",
    "    )\n",
    "\n",
    "    plot_pred_target(predictions=predictions, idx=300)\n",
    "\n",
    "elif model_type == \"cnn\":\n",
    "    test_dataset = SequenceDatasetCNN(df_test, time_window=100, padding=1)\n",
    "    test_loader = DataLoader(test_dataset, batch_size=32, shuffle=True, drop_last=True)\n",
    "\n",
    "    start_point = 1100\n",
    "    fw = 24\n",
    "    tw = 100\n",
    "\n",
    "    historic_data = df_test.copy(deep=True)[start_point : start_point + tw + fw].values\n",
    "    targets = copy.deepcopy(historic_data)[tw : tw + fw][:, 0]\n",
    "\n",
    "    predictions = []\n",
    "\n",
    "    for i in range(fw):\n",
    "        x = historic_data[i : tw + i].reshape(-1, 2)\n",
    "\n",
    "        x = torch.tensor(x, dtype=torch.float32).unsqueeze(0).to(device)\n",
    "        p = model(x)\n",
    "\n",
    "        predictions.append(p.item())\n",
    "        historic_data[-fw + i, 0] = p.item()\n",
    "\n",
    "    # denormalize\n",
    "    predictions = (\n",
    "        np.array(predictions) * train_std[\"consumption\"] + train_mean[\"consumption\"]\n",
    "    )\n",
    "    targets = np.array(targets) * train_std[\"consumption\"] + train_mean[\"consumption\"]\n",
    "\n",
    "    x = range(predictions.shape[0])\n",
    "    plt.figure(figsize=(6, 4), dpi=150)\n",
    "    plt.plot(x, predictions, label=\"Forecast\")\n",
    "    plt.plot(x, targets, label=\"Targets\")\n",
    "    plt.legend()\n",
    "    plt.grid()\n",
    "    plt.show()\n",
    "\n",
    "elif model_type == \"lstm\":\n",
    "    start_point = 100\n",
    "    tw = 100\n",
    "    fw = 24\n",
    "\n",
    "    historic_data = list(df_test.copy(deep=True)[\"consumption\"])[\n",
    "        start_point : start_point + tw + fw\n",
    "    ]  # test data from start point to 24 hours after sequence end\n",
    "    targets = copy.deepcopy(historic_data)[\n",
    "        tw : tw + fw\n",
    "    ]  # targets are the last 24 rows of the historic data\n",
    "\n",
    "    predictions = []\n",
    "\n",
    "    for i in range(fw):\n",
    "        x = np.array(historic_data[i : tw + i]).reshape(\n",
    "            -1, 1\n",
    "        )  # input sequence (without the last 24)\n",
    "\n",
    "        x = torch.tensor(x, dtype=torch.float32).unsqueeze(0).to(device)\n",
    "        pred = model(x)  # this is the 1 out used in next input\n",
    "\n",
    "        predictions.append(pred.item())\n",
    "\n",
    "        historic_data[-fw + i] = (\n",
    "            pred.item()\n",
    "        )  # append the prediction to the historic data to be used for next prediction\n",
    "\n",
    "    predictions = (\n",
    "        np.array(predictions) * train_std[\"consumption\"] + train_mean[\"consumption\"]\n",
    "    )\n",
    "    targets = np.array(targets) * train_std[\"consumption\"] + train_mean[\"consumption\"]\n",
    "\n",
    "    x = range(predictions.shape[0])\n",
    "    plt.figure(figsize=(6, 4), dpi=150)\n",
    "    plt.plot(x, predictions, label=\"Forecast\")\n",
    "    plt.plot(x, targets, label=\"Targets\")\n",
    "    plt.legend()\n",
    "    plt.grid()\n",
    "    plt.show()"
   ]
  }
 ],
 "metadata": {
  "kernelspec": {
   "display_name": "it3030",
   "language": "python",
   "name": "python3"
  },
  "language_info": {
   "codemirror_mode": {
    "name": "ipython",
    "version": 3
   },
   "file_extension": ".py",
   "mimetype": "text/x-python",
   "name": "python",
   "nbconvert_exporter": "python",
   "pygments_lexer": "ipython3",
   "version": "3.9.18"
  }
 },
 "nbformat": 4,
 "nbformat_minor": 2
}
